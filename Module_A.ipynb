{
  "nbformat": 4,
  "nbformat_minor": 0,
  "metadata": {
    "colab": {
      "provenance": [],
      "toc_visible": true,
      "authorship_tag": "ABX9TyO7X5P0QHxDEJWQUJPgAx/P",
      "include_colab_link": true
    },
    "kernelspec": {
      "name": "python3",
      "display_name": "Python 3"
    },
    "language_info": {
      "name": "python"
    }
  },
  "cells": [
    {
      "cell_type": "markdown",
      "metadata": {
        "id": "view-in-github",
        "colab_type": "text"
      },
      "source": [
        "<a href=\"https://colab.research.google.com/github/ywan1416/MAT422/blob/main/Module_A.ipynb\" target=\"_parent\"><img src=\"https://colab.research.google.com/assets/colab-badge.svg\" alt=\"Open In Colab\"/></a>"
      ]
    },
    {
      "cell_type": "markdown",
      "source": [
        "# Base-N and Binary"
      ],
      "metadata": {
        "id": "qper-ypEUrlh"
      }
    },
    {
      "cell_type": "markdown",
      "source": [
        "Base-N: Allowed digits range from 0 to N-1. For example, binary (Base-2) includes only two digits: 0 and 1. In binary, for instance, 17_10=10001_2. The bit size of a computer, such as 32-bit or 64-bit, determines the maximum integer it can represent. Logical operations like AND, OR, and NOT are commonly used in binary arithmetic."
      ],
      "metadata": {
        "id": "4DQ-fVeVUqJe"
      }
    },
    {
      "cell_type": "markdown",
      "source": [
        "Binary"
      ],
      "metadata": {
        "id": "P3x2yNomqlas"
      }
    },
    {
      "cell_type": "code",
      "execution_count": 3,
      "metadata": {
        "colab": {
          "base_uri": "https://localhost:8080/"
        },
        "id": "kXCAkN34UoSe",
        "outputId": "08d3ecfb-d664-41e2-80fa-76807025167b"
      },
      "outputs": [
        {
          "output_type": "stream",
          "name": "stdout",
          "text": [
            "Number ten in decimal is 10, and in binary is 0b1010\n"
          ]
        }
      ],
      "source": [
        "number = 10\n",
        "print(f\"Number ten in decimal is {number}, and in binary is {bin(number)}\")"
      ]
    },
    {
      "cell_type": "markdown",
      "source": [
        "Base-N"
      ],
      "metadata": {
        "id": "d_VJuqC8vMyB"
      }
    },
    {
      "cell_type": "code",
      "source": [
        "def decimal_to_base_n(number, base):\n",
        "    return \"0\" if number == 0 else decimal_to_base_n(number // base, base) + str(number % base)\n",
        "\n",
        "print(f\"Decimal number 10 in Base-3 is {decimal_to_base_n(10, 3)}\")\n",
        "print(f\"Decimal number 15 in Base-5 is {decimal_to_base_n(15, 5)}\")\n"
      ],
      "metadata": {
        "colab": {
          "base_uri": "https://localhost:8080/"
        },
        "id": "iZ46RXqmvWxa",
        "outputId": "ac12f258-70ca-4e63-d147-9daf8be69038"
      },
      "execution_count": 5,
      "outputs": [
        {
          "output_type": "stream",
          "name": "stdout",
          "text": [
            "Decimal number 10 in Base-3 is 0101\n",
            "Decimal number 15 in Base-5 is 030\n"
          ]
        }
      ]
    },
    {
      "cell_type": "markdown",
      "source": [
        "# Floating Point Numbers"
      ],
      "metadata": {
        "id": "PQo9Cj6_UyJ-"
      }
    },
    {
      "cell_type": "markdown",
      "source": [
        "Epresented as: n=(-1)^s * 2^(e-1023) * (1+f)"
      ],
      "metadata": {
        "id": "CqxSQX_qUrPe"
      }
    },
    {
      "cell_type": "markdown",
      "source": [
        "Floating Point Numbers: Floating point numbers use a fixed number of bits to represent values efficiently, divided into three parts: Sign bit (s), Exponent (e), and Fraction (f). They follow the IEEE754 standard, where the exponent extends the range of representable values, and the fraction ensures precision."
      ],
      "metadata": {
        "id": "JkxJTToDzE9N"
      }
    },
    {
      "cell_type": "code",
      "source": [
        "import numpy as np\n",
        "\n",
        "number = 15.0\n",
        "\n",
        "gap = np.spacing(number)\n",
        "print(f\"Smallest gap near {number}: {gap}\")\n",
        "\n",
        "print(f\"Adding smaller value: {number} + {gap / 2} = {number + gap / 2}\")\n",
        "print(f\"Adding larger value: {number} + {gap * 2} = {number + gap * 2}\")\n"
      ],
      "metadata": {
        "colab": {
          "base_uri": "https://localhost:8080/"
        },
        "id": "EZAy3pXs1oHj",
        "outputId": "c8f2ca3c-31aa-42df-ebc0-e6d80b7140c3"
      },
      "execution_count": 6,
      "outputs": [
        {
          "output_type": "stream",
          "name": "stdout",
          "text": [
            "Smallest gap near 15.0: 1.7763568394002505e-15\n",
            "Adding smaller value: 15.0 + 8.881784197001252e-16 = 15.0\n",
            "Adding larger value: 15.0 + 3.552713678800501e-15 = 15.000000000000004\n"
          ]
        }
      ]
    },
    {
      "cell_type": "markdown",
      "source": [
        "# Round-off Errors"
      ],
      "metadata": {
        "id": "HenbOObuU05T"
      }
    },
    {
      "cell_type": "markdown",
      "source": [
        "Some values in floating-point representation cannot be expressed exactly, e.g., π. When an initial value undergoes multiple calculations, round-off errors can accumulate, leading to imprecise results."
      ],
      "metadata": {
        "id": "wksPLnaJPA4z"
      }
    },
    {
      "cell_type": "code",
      "source": [
        "result = 0.1 + 0.1 + 0.1\n",
        "print(f\"0.1 + 0.1 + 0.1 = {result}\")\n",
        "print(f\"Is 0.1 + 0.1 + 0.1 equal to 0.3? {result == 0.3}\")\n",
        "\n",
        "rounded_result = round(result, 10)\n",
        "print(f\"Rounded result: {rounded_result}, Is it equal to 0.3? {rounded_result == 0.3}\")\n"
      ],
      "metadata": {
        "colab": {
          "base_uri": "https://localhost:8080/"
        },
        "id": "qgwhOXj5PB6r",
        "outputId": "d78a60e3-5048-4b5f-adb2-238277e0d780"
      },
      "execution_count": 7,
      "outputs": [
        {
          "output_type": "stream",
          "name": "stdout",
          "text": [
            "0.1 + 0.1 + 0.1 = 0.30000000000000004\n",
            "Is 0.1 + 0.1 + 0.1 equal to 0.3? False\n",
            "Rounded result: 0.3, Is it equal to 0.3? True\n"
          ]
        }
      ]
    }
  ]
}