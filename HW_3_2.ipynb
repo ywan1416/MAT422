{
  "nbformat": 4,
  "nbformat_minor": 0,
  "metadata": {
    "colab": {
      "provenance": [],
      "toc_visible": true,
      "authorship_tag": "ABX9TyM9FPvaHIz3rtCknZ+IhfBw",
      "include_colab_link": true
    },
    "kernelspec": {
      "name": "python3",
      "display_name": "Python 3"
    },
    "language_info": {
      "name": "python"
    }
  },
  "cells": [
    {
      "cell_type": "markdown",
      "metadata": {
        "id": "view-in-github",
        "colab_type": "text"
      },
      "source": [
        "<a href=\"https://colab.research.google.com/github/ywan1416/MAT422/blob/main/HW_3_2.ipynb\" target=\"_parent\"><img src=\"https://colab.research.google.com/assets/colab-badge.svg\" alt=\"Open In Colab\"/></a>"
      ]
    },
    {
      "cell_type": "code",
      "execution_count": 1,
      "metadata": {
        "id": "qLPr-bUcMGct"
      },
      "outputs": [],
      "source": [
        "import sympy as sp"
      ]
    },
    {
      "cell_type": "markdown",
      "source": [
        "# 3.2.1. Limits and continuity"
      ],
      "metadata": {
        "id": "ec1i_UufMIVD"
      }
    },
    {
      "cell_type": "markdown",
      "source": [
        "Limits: For a function 𝑓, as 𝑥 approaches 𝑎, the value of 𝑓(𝑥) gets infinitely close to 𝐿."
      ],
      "metadata": {
        "id": "TlRY-oobNBOD"
      }
    },
    {
      "cell_type": "markdown",
      "source": [
        "Continuity: A function 𝑓 is continuous at 𝑎 if, as 𝑥 approaches 𝑎, the function remains continuous."
      ],
      "metadata": {
        "id": "Z4ZlJsGSdyNQ"
      }
    },
    {
      "cell_type": "markdown",
      "source": [
        "Extreme Value Theorem: a continuous function on a closed and bounded interval will always attain both a maximum and a minimum value within that interval."
      ],
      "metadata": {
        "id": "TUqKxExbdzhF"
      }
    },
    {
      "cell_type": "code",
      "source": [
        "x = sp.symbols('x')\n",
        "\n",
        "#define a function f(x)\n",
        "f = 1/ (x - 1)\n",
        "print(\"F(x)=\", f)\n",
        "\n",
        "# Calculate the limit of f(x) as x approaches infinity\n",
        "limit_f = sp.limit(f, x, sp.oo)\n",
        "print(f\"Limit of f(x) as x approaches infinity: {limit_f}\")"
      ],
      "metadata": {
        "colab": {
          "base_uri": "https://localhost:8080/"
        },
        "id": "u9s4VmyDNCHl",
        "outputId": "3b0eb814-5be6-44d1-c0e4-f104795aaaa5"
      },
      "execution_count": 6,
      "outputs": [
        {
          "output_type": "stream",
          "name": "stdout",
          "text": [
            "F(x)= 1/(x - 1)\n",
            "Limit of f(x) as x approaches infinity: 0\n"
          ]
        }
      ]
    },
    {
      "cell_type": "code",
      "source": [
        "#define a function g(x)\n",
        "g = x**4 + 2*x**3\n",
        "print(\"G(x)=\", g)\n",
        "\n",
        "# Check if g(x) is continuous at x = 10\n",
        "limit_g = sp.limit(g, x, 10)\n",
        "g_at_10 = g.subs(x, 10)\n",
        "if limit_g == g_at_10:\n",
        "    print(f\"g(x) is continuous at x = 10, and g(10) = {g_at_10}\")\n",
        "else:\n",
        "    print(f\"g(x) is not continuous at x = 10\")\n"
      ],
      "metadata": {
        "colab": {
          "base_uri": "https://localhost:8080/"
        },
        "id": "UI_HgM23ihBl",
        "outputId": "9edb3ad7-9b53-4ca6-a165-99cee79aeea3"
      },
      "execution_count": 12,
      "outputs": [
        {
          "output_type": "stream",
          "name": "stdout",
          "text": [
            "G(x)= x**4 + 2*x**3\n",
            "g(x) is continuous at x = 2, and g(2) = 12000\n"
          ]
        }
      ]
    },
    {
      "cell_type": "markdown",
      "source": [
        "# 3.2.2. Derivatives"
      ],
      "metadata": {
        "id": "JLiozUp0MIpM"
      }
    },
    {
      "cell_type": "markdown",
      "source": [
        "3.2.2.1 Single-Variable Case"
      ],
      "metadata": {
        "id": "lvjNE_uxMf1x"
      }
    },
    {
      "cell_type": "markdown",
      "source": [
        "As 𝑥_0 changes by ℎ, the rate at which 𝑓 the derivative gives (𝑥) changes. If the limit exists, the function is said to be differentiable at that point."
      ],
      "metadata": {
        "id": "KaID43dwMiUQ"
      }
    },
    {
      "cell_type": "markdown",
      "source": [
        "Derivatives of Linear Operations: If both 𝑓(𝑥) and 𝑔(𝑥) are differentiable, their linear combination is also differentiable. In other words, the derivative of a linear operation on functions is also a linear operation."
      ],
      "metadata": {
        "id": "ljC-rNnVsAEA"
      }
    },
    {
      "cell_type": "code",
      "source": [
        "def derivative(f, x0, h=1e-5):\n",
        "    return (f(x0 + h) - f(x0)) / h"
      ],
      "metadata": {
        "id": "5FFb-dDGnZOP"
      },
      "execution_count": 16,
      "outputs": []
    },
    {
      "cell_type": "markdown",
      "source": [
        "3.2.2.2 General Case"
      ],
      "metadata": {
        "id": "YqjZt56TMs3L"
      }
    },
    {
      "cell_type": "markdown",
      "source": [
        "When multiple variables influence the value of a function, partial derivatives describe the rate of change of the function with respect to each variable."
      ],
      "metadata": {
        "id": "GnlmKEupMtRR"
      }
    },
    {
      "cell_type": "markdown",
      "source": [
        "3.2.2.3 Further Derivatives"
      ],
      "metadata": {
        "id": "6wd5QdaTMySe"
      }
    },
    {
      "cell_type": "markdown",
      "source": [
        "Directional Derivative: The gradient determines the direction, and the directional derivative gives the rate of change. It's the dot product of the gradient and the direction vector."
      ],
      "metadata": {
        "id": "AUvwYFnltYBZ"
      }
    },
    {
      "cell_type": "markdown",
      "source": [
        "Second Derivatives and Hessian Matrix: The Hessian matrix, made of second-order partial derivatives, is symmetric if the function is twice continuously differentiable. It helps determine convexity and extreme points."
      ],
      "metadata": {
        "id": "JArY6onLwItF"
      }
    },
    {
      "cell_type": "code",
      "source": [
        "#Single-Variable\n",
        "x = sp.symbols('x')\n",
        "#define a function f(x)\n",
        "f = x**3 + x**2 + x\n",
        "print(\"F(x)=\", f)\n",
        "\n",
        "#derivative f(x)\n",
        "f_der = sp.diff(f, x)\n",
        "print(\"F'(x)=\", f_der)"
      ],
      "metadata": {
        "colab": {
          "base_uri": "https://localhost:8080/"
        },
        "id": "fvK5H8bKNDag",
        "outputId": "fc67f27f-92bf-4c6f-d74f-633cd2519d5d"
      },
      "execution_count": 27,
      "outputs": [
        {
          "output_type": "stream",
          "name": "stdout",
          "text": [
            "F(x)= x**3 + x**2 + x\n",
            "F'(x)= 3*x**2 + 2*x + 1\n"
          ]
        }
      ]
    },
    {
      "cell_type": "code",
      "source": [
        "#Multi-Variable\n",
        "x, y = sp.symbols('x y')\n",
        "#define a function f(x, y)\n",
        "f = x**2 + y**2\n",
        "print(\"F(x, y)=\", f)\n",
        "\n",
        "partial_x = sp.diff(f, x)\n",
        "partial_y = sp.diff(f, y)\n",
        "print(f\"F'(x, y)= {partial_x} + {partial_y}\")"
      ],
      "metadata": {
        "colab": {
          "base_uri": "https://localhost:8080/"
        },
        "id": "TFM8Y5kqwkGP",
        "outputId": "a0946b85-1c1f-4f6c-ceb3-6e68cedb551f"
      },
      "execution_count": 28,
      "outputs": [
        {
          "output_type": "stream",
          "name": "stdout",
          "text": [
            "F(x, y)= x**2 + y**2\n",
            "F'(x, y)= 2*x + 2*y\n"
          ]
        }
      ]
    },
    {
      "cell_type": "code",
      "source": [
        "#Hessian\n",
        "hessian_matrix = sp.hessian(f, (x, y))\n",
        "print(f\"Hessian matrix of f(x, y): {hessian_matrix}\")\n",
        "\n",
        "#Compute the Hessian at a (1,1)\n",
        "hessian_at_point = hessian_matrix.subs({x: 1, y: 1})\n",
        "print(f\"Hessian matrix at point (1, 1): {hessian_at_point}\")"
      ],
      "metadata": {
        "colab": {
          "base_uri": "https://localhost:8080/"
        },
        "id": "Hjb2L7diwotY",
        "outputId": "7b1ee176-5d60-49bb-82c0-19eff11ab6fa"
      },
      "execution_count": 33,
      "outputs": [
        {
          "output_type": "stream",
          "name": "stdout",
          "text": [
            "Hessian matrix of f(x, y): Matrix([[2, 0], [0, 2]])\n",
            "Hessian matrix at point (1, 1): Matrix([[2, 0], [0, 2]])\n"
          ]
        }
      ]
    },
    {
      "cell_type": "markdown",
      "source": [
        "# 3.2.3. Taylor’s theorem"
      ],
      "metadata": {
        "id": "vr1_NVY1MIsl"
      }
    },
    {
      "cell_type": "markdown",
      "source": [
        "Single-Variable Taylor's Theorem:\n",
        "If a function 𝑓(𝑥) has continuous derivatives up to order 𝑛 on the interval [a,b], it can be approximated using Taylor's series."
      ],
      "metadata": {
        "id": "GOIPNSwwND-w"
      }
    },
    {
      "cell_type": "markdown",
      "source": [
        "Multivariable Taylor's Theorem:\n",
        "For a function with second-order partial derivatives, Taylor's expansion can be used to approximate the function."
      ],
      "metadata": {
        "id": "jMZWXh-H2pes"
      }
    },
    {
      "cell_type": "code",
      "source": [
        "#Single-Variable Taylor\n",
        "\n",
        "x = sp.symbols('x')\n",
        "f_single = sp.exp(x)\n",
        "f_single_taylor = f_single.series(x0=0, n=5)\n",
        "print(f\"Taylor expansion of f(x) around x=0: {f_single_taylor}\")"
      ],
      "metadata": {
        "colab": {
          "base_uri": "https://localhost:8080/"
        },
        "id": "2aGYnSeGNEfp",
        "outputId": "8577b324-5154-4266-bb65-c799448433a7"
      },
      "execution_count": 36,
      "outputs": [
        {
          "output_type": "stream",
          "name": "stdout",
          "text": [
            "Taylor expansion of f(x) around x=0: 1 + x + x**2/2 + x**3/6 + x**4/24 + O(x**5)\n"
          ]
        }
      ]
    },
    {
      "cell_type": "code",
      "source": [
        "# Multivariable Taylor\n",
        "x, y = sp.symbols('x y')\n",
        "f_multi = x**2 + y**2\n",
        "f_multi_taylor = f_multi.series(x, 0, 5).removeO() + f_multi.series(y, 0, 5).removeO()\n",
        "print(f\"Taylor expansion of f(x, y) around (x=0, y=0): {f_multi_taylor}\")"
      ],
      "metadata": {
        "colab": {
          "base_uri": "https://localhost:8080/"
        },
        "id": "4um8_9Q13Uw2",
        "outputId": "2ca3ef56-5954-417a-a3ef-0e992e293841"
      },
      "execution_count": 44,
      "outputs": [
        {
          "output_type": "stream",
          "name": "stdout",
          "text": [
            "Taylor expansion of f(x, y) around (x=0, y=0): 2*x**2 + 2*y**2\n"
          ]
        }
      ]
    }
  ]
}