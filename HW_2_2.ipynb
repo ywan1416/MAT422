{
  "nbformat": 4,
  "nbformat_minor": 0,
  "metadata": {
    "colab": {
      "provenance": [],
      "toc_visible": true
    },
    "kernelspec": {
      "name": "python3",
      "display_name": "Python 3"
    },
    "language_info": {
      "name": "python"
    }
  },
  "cells": [
    {
      "cell_type": "code",
      "source": [
        "import numpy as np\n",
        "import random\n",
        "import math\n",
        "from scipy.stats import norm"
      ],
      "metadata": {
        "id": "eAyCELRL30OJ"
      },
      "execution_count": 54,
      "outputs": []
    },
    {
      "cell_type": "markdown",
      "source": [
        "# 2.2.1. Probability axioms"
      ],
      "metadata": {
        "id": "ZPOngQj-Z4lt"
      }
    },
    {
      "cell_type": "markdown",
      "source": [
        "2.2.1.1 Sample Spaces and Events"
      ],
      "metadata": {
        "id": "xg4MI3S-zPMB"
      }
    },
    {
      "cell_type": "code",
      "execution_count": 45,
      "metadata": {
        "colab": {
          "base_uri": "https://localhost:8080/"
        },
        "id": "4QH9vC3QZqwI",
        "outputId": "b971325d-c319-41c5-95c1-d62732dc7fe0"
      },
      "outputs": [
        {
          "output_type": "stream",
          "name": "stdout",
          "text": [
            "Event A: [1, 2]\n",
            "Event B: [6, 1, 9]\n"
          ]
        }
      ],
      "source": [
        "#Set a Sample Space\n",
        "SampleSpace = {1, 2, 3, 4, 5, 6, 7, 8, 9, 10}\n",
        "\n",
        "#Get random event A and B\n",
        "A = [random.randint(1, 10) for _ in range(2)]\n",
        "B = [random.randint(1, 10) for _ in range(3)]\n",
        "print(\"Event A:\", A)\n",
        "print(\"Event B:\", B)"
      ]
    },
    {
      "cell_type": "code",
      "source": [
        "#Calculate P(A) and P(B)\n",
        "P_A = len(set(A)) / len(SampleSpace)\n",
        "P_B = len(set(B)) / len(SampleSpace)\n",
        "\n",
        "#Calculate P(A intersection B) and P(A union B)\n",
        "P_intersection = len(set(A).intersection(set(B))) / len(SampleSpace)\n",
        "P_union = P_A + P_B - P_intersection\n",
        "\n",
        "print(\"P(A):\", P_A)\n",
        "print(\"P(B):\", P_B)\n",
        "print(\"P(A intersection B):\", P_intersection)\n",
        "print(\"P(A union B):\", P_union)"
      ],
      "metadata": {
        "colab": {
          "base_uri": "https://localhost:8080/"
        },
        "id": "on1Hlz7n691n",
        "outputId": "9692a269-8515-4263-98a7-e000844e09a1"
      },
      "execution_count": 46,
      "outputs": [
        {
          "output_type": "stream",
          "name": "stdout",
          "text": [
            "P(A): 0.2\n",
            "P(B): 0.3\n",
            "P(A intersection B): 0.1\n",
            "P(A union B): 0.4\n"
          ]
        }
      ]
    },
    {
      "cell_type": "markdown",
      "source": [
        "# 2.2.2. Conditional probability"
      ],
      "metadata": {
        "id": "KAfTpL33Z9WP"
      }
    },
    {
      "cell_type": "code",
      "source": [
        "#Calculate conditional probability\n",
        "P_AB = P_intersection / P_B\n",
        "\n",
        "print(\"P(A|B):\", P_AB)\n",
        "\n",
        "#check if A and B are independent\n",
        "if P_AB == P_A:\n",
        "  P_intersection = P_A * P_B\n",
        "  print(\"Event A and B are independent\")\n",
        "else:\n",
        "  print(\"Event A and B are not independent\")"
      ],
      "metadata": {
        "colab": {
          "base_uri": "https://localhost:8080/"
        },
        "id": "xjqdjmrz_Hi3",
        "outputId": "37497c72-8106-44dd-cf42-12625f99f663"
      },
      "execution_count": 47,
      "outputs": [
        {
          "output_type": "stream",
          "name": "stdout",
          "text": [
            "P(A|B): 0.33333333333333337\n",
            "Event A and B are not independent\n"
          ]
        }
      ]
    },
    {
      "cell_type": "markdown",
      "source": [
        "# 2.2.3. Discrete random variables"
      ],
      "metadata": {
        "id": "KWMvjHn1aBq7"
      }
    },
    {
      "cell_type": "code",
      "source": [
        "#Get a random flip coin\n",
        "coin = random.choice([0, 1])\n",
        "print(\"Coin :\",coin)\n",
        "\n",
        "#if coin = 1, it's head\n",
        "p_heads = 0.5\n",
        "\n",
        "#if coin = 0, it's tails\n",
        "p_tails = 0.5"
      ],
      "metadata": {
        "colab": {
          "base_uri": "https://localhost:8080/"
        },
        "id": "H16PcQcwA4N-",
        "outputId": "f9bc54de-7d7f-4a9a-9fe9-0e3389ec1af2"
      },
      "execution_count": 48,
      "outputs": [
        {
          "output_type": "stream",
          "name": "stdout",
          "text": [
            "Coin : 1\n"
          ]
        }
      ]
    },
    {
      "cell_type": "code",
      "source": [
        "#Calculate CDF\n",
        "F_0 = p_heads\n",
        "F_1 = p_heads + p_tails\n",
        "\n",
        "print(\"F(0):\", F_0)\n",
        "print(\"F(1):\", F_1)"
      ],
      "metadata": {
        "colab": {
          "base_uri": "https://localhost:8080/"
        },
        "id": "ODHNb7KCO2mP",
        "outputId": "18534a79-e068-469e-9f7d-ea7cf554759a"
      },
      "execution_count": 49,
      "outputs": [
        {
          "output_type": "stream",
          "name": "stdout",
          "text": [
            "F(0): 0.5\n",
            "F(1): 1.0\n"
          ]
        }
      ]
    },
    {
      "cell_type": "markdown",
      "source": [
        "# 2.2.4. Continues random variables"
      ],
      "metadata": {
        "id": "vYZfDskoaF34"
      }
    },
    {
      "cell_type": "markdown",
      "source": [
        "2.2.4.1 Expected Values and Variances"
      ],
      "metadata": {
        "id": "smKPUhEhzgRK"
      }
    },
    {
      "cell_type": "code",
      "source": [
        "#Calculate the probabilities of each possible outcome\n",
        "p = [1 / len(list(set(A)))] * len(list(A))\n",
        "\n",
        "#Calcute the expected value, variance, and standard deviation of Event A\n",
        "expected_value = np.sum(np.array(p)*np.array(A))\n",
        "variance = np.sum((np.array(A) - expected_value) ** 2 * p)\n",
        "standard_deviation = np.sqrt(variance)\n",
        "\n",
        "print(\"Expected value of Event A:\", expected_value)\n",
        "print(\"Variance of Event A:\", variance)\n",
        "print(\"Standard deviation of Event A:\", standard_deviation)"
      ],
      "metadata": {
        "colab": {
          "base_uri": "https://localhost:8080/"
        },
        "id": "nz2mKKKbQgYo",
        "outputId": "cd99de23-6c2d-4282-9121-93e669c7b4ad"
      },
      "execution_count": 50,
      "outputs": [
        {
          "output_type": "stream",
          "name": "stdout",
          "text": [
            "Expected value of Event A: 1.5\n",
            "Variance of Event A: 0.25\n",
            "Standard deviation of Event A: 0.5\n"
          ]
        }
      ]
    },
    {
      "cell_type": "markdown",
      "source": [
        "2.2.4.2 The Normal Distribution"
      ],
      "metadata": {
        "id": "kq0xQdk5zguL"
      }
    },
    {
      "cell_type": "code",
      "source": [
        "#define a mean, variance, and standard deviation\n",
        "mean = 10\n",
        "variance = 4\n",
        "standard_deviation = math.sqrt(variance)\n",
        "\n",
        "#calculate P(8 <= X <= 12)\n",
        "prob = norm.cdf(12, mean, standard_deviation) - norm.cdf(8, mean, standard_deviation)\n",
        "print(\"P(8 <= X <= 12):\", prob)"
      ],
      "metadata": {
        "colab": {
          "base_uri": "https://localhost:8080/"
        },
        "id": "cdrfjR7jXcq2",
        "outputId": "9053a541-be75-4292-de04-a465756bf7c3"
      },
      "execution_count": 58,
      "outputs": [
        {
          "output_type": "stream",
          "name": "stdout",
          "text": [
            "P(8 <= X <= 12): 0.6826894921370859\n"
          ]
        }
      ]
    }
  ]
}