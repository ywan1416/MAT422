{
  "nbformat": 4,
  "nbformat_minor": 0,
  "metadata": {
    "colab": {
      "provenance": [],
      "toc_visible": true,
      "authorship_tag": "ABX9TyOsk/xtdMFaFpc5VS3W30yH",
      "include_colab_link": true
    },
    "kernelspec": {
      "name": "python3",
      "display_name": "Python 3"
    },
    "language_info": {
      "name": "python"
    }
  },
  "cells": [
    {
      "cell_type": "markdown",
      "metadata": {
        "id": "view-in-github",
        "colab_type": "text"
      },
      "source": [
        "<a href=\"https://colab.research.google.com/github/ywan1416/MAT422/blob/main/HW4_1%2C_4_2.ipynb\" target=\"_parent\"><img src=\"https://colab.research.google.com/assets/colab-badge.svg\" alt=\"Open In Colab\"/></a>"
      ]
    },
    {
      "cell_type": "code",
      "source": [
        "import networkx as nx\n",
        "import numpy as np\n",
        "import matplotlib.pyplot as plt\n",
        "from scipy.linalg import eigh"
      ],
      "metadata": {
        "id": "p5E8xIhMpIBk"
      },
      "execution_count": null,
      "outputs": []
    },
    {
      "cell_type": "markdown",
      "source": [
        "# 4.1.1 Graph Models"
      ],
      "metadata": {
        "id": "ZmcTLB0ypnMu"
      }
    },
    {
      "cell_type": "markdown",
      "source": [
        "A graph consists of nodes and edges. It can be represented as G=(V,E), where: V={v_1,v_2,…,v_n}: the set of nodes (vertices).\n",
        "E={e_1,e_2,…,e_m}: the set of edges connecting pairs of nodes.\n",
        "The size of E is often denoted as m=∣E∣. Edges can either be directed or undirected, depending on whether the connection between two nodes has a specific direction."
      ],
      "metadata": {
        "id": "jupdc45xkTW0"
      }
    },
    {
      "cell_type": "markdown",
      "source": [
        "# 4.1.2 Laplacian Matrix"
      ],
      "metadata": {
        "id": "iMgi1KfKpn5Y"
      }
    },
    {
      "cell_type": "markdown",
      "source": [
        "The Laplacian matrix L of a graph G=(V,E) is defined as L=D-A, where D is the degree matrix (diagonal elements represent node degrees) and A is the adjacency matrix (elements represent edge weights). For diagonal elements L_ii, the value is the degree of node v_i, and for off-diagonal elements L_ij, the value is −E_ij if nodes v _i and v_j are connected, or 0 otherwise. The matrix is symmetric, positive semi-definite, and its smallest eigenvalue is 0, with the corresponding eigenvector being e=[1,1,…,1]^T."
      ],
      "metadata": {
        "id": "NGRV4Q_lnK0n"
      }
    },
    {
      "cell_type": "code",
      "source": [
        "# Define the nodes and the edges\n",
        "nodes = [1, 2, 3]\n",
        "edges = [(1, 2), (2, 3)]  # List of edges\n",
        "\n",
        "# Number of nodes\n",
        "n = len(nodes)\n",
        "\n",
        "# Initialize the adjacency matrix\n",
        "adj_matrix = np.zeros((n, n))\n",
        "\n",
        "# Made adjacency matrix based on edges\n",
        "for edge in edges:\n",
        "    i, j = edge[0] - 1, edge[1] - 1\n",
        "    adj_matrix[i][j] = 1\n",
        "    adj_matrix[j][i] = 1\n",
        "print(\"Adjacency Matrix:\")\n",
        "print(adj_matrix)\n",
        "\n",
        "# Calculate a degree matrix\n",
        "degree_matrix = np.diag(np.sum(adj_matrix, axis=1))\n",
        "print(\"\\nDegree Matrix:\")\n",
        "print(degree_matrix)\n",
        "\n",
        "# Calculate Laplacian matrix\n",
        "laplacian_matrix = degree_matrix - adj_matrix\n",
        "print(\"\\nLaplacian Matrix:\")\n",
        "print(laplacian_matrix)\n",
        "\n",
        "# Calculate Shortest Path Length\n",
        "shortest_path_length = 2\n",
        "print(\"\\nShortest Path Length from Node 1 to Node 3:\", shortest_path_length)\n",
        "\n",
        "# Calculate Degree Centrality\n",
        "degree_centrality = np.sum(adj_matrix, axis=1) / (n - 1)\n",
        "print(\"\\nDegree Centrality:\")\n",
        "for i, centrality in enumerate(degree_centrality):\n",
        "    print(f\"Node {i + 1}: {centrality:.2f}\")\n"
      ],
      "metadata": {
        "colab": {
          "base_uri": "https://localhost:8080/"
        },
        "id": "MBKeStgnpMqs",
        "outputId": "22fdb82b-4999-4fc4-9516-3c995e0557e1"
      },
      "execution_count": null,
      "outputs": [
        {
          "output_type": "stream",
          "name": "stdout",
          "text": [
            "Adjacency Matrix:\n",
            "[[0. 1. 0.]\n",
            " [1. 0. 1.]\n",
            " [0. 1. 0.]]\n",
            "\n",
            "Degree Matrix:\n",
            "[[1. 0. 0.]\n",
            " [0. 2. 0.]\n",
            " [0. 0. 1.]]\n",
            "\n",
            "Laplacian Matrix:\n",
            "[[ 1. -1.  0.]\n",
            " [-1.  2. -1.]\n",
            " [ 0. -1.  1.]]\n",
            "\n",
            "Shortest Path Length from Node 1 to Node 3: 2\n",
            "\n",
            "Degree Centrality:\n",
            "Node 1: 0.50\n",
            "Node 2: 1.00\n",
            "Node 3: 0.50\n"
          ]
        }
      ]
    },
    {
      "cell_type": "markdown",
      "source": [
        "# 4.2 Spectral Graph Bipartitioning"
      ],
      "metadata": {
        "id": "MptkcDUvpn8t"
      }
    },
    {
      "cell_type": "markdown",
      "source": [
        "The Laplacian matrix and spectral methods are used for bipartitioning a graph to minimize the connections between two subsets. This approach is widely applied in social network analysis, image segmentation, and other fields."
      ],
      "metadata": {
        "id": "U0_vJ6kNqsmi"
      }
    },
    {
      "cell_type": "code",
      "execution_count": 12,
      "metadata": {
        "id": "Tcy0Q8gwpWh_",
        "colab": {
          "base_uri": "https://localhost:8080/"
        },
        "outputId": "58b0f1ca-0cab-473a-8045-3f78f02c9482"
      },
      "outputs": [
        {
          "output_type": "stream",
          "name": "stdout",
          "text": [
            "Adjacency Matrix: [[0 1 0]\n",
            " [1 0 1]\n",
            " [0 1 0]]\n",
            "\n",
            "Degree Matrix: [[1 0 0]\n",
            " [0 2 0]\n",
            " [0 0 1]]\n",
            "\n",
            "Laplacian Matrix: [[ 1 -1  0]\n",
            " [-1  2 -1]\n",
            " [ 0 -1  1]]\n",
            "\n",
            "Eigenvalues of the Laplacian Matrix: [2.66453526e-15 1.00000000e+00 3.00000000e+00]\n",
            "\n",
            "Fiedler Vector: [-7.07106781e-01  9.42055475e-16  7.07106781e-01]\n",
            "\n",
            "Partition (1 for V1, -1 for V2): [-1, 1, 1]\n"
          ]
        }
      ],
      "source": [
        "# Define the adjacency matrix\n",
        "adj_matrix = np.array([\n",
        "    [0, 1, 0],  # Node 1\n",
        "    [1, 0, 1],  # Node 2\n",
        "    [0, 1, 0],  # Node 3\n",
        "])\n",
        "\n",
        "# Calculate the degree matrix\n",
        "degree_matrix = np.diag(np.sum(adj_matrix, axis=1))\n",
        "\n",
        "# Calculate the Laplacian matrix\n",
        "laplacian_matrix = degree_matrix - adj_matrix\n",
        "\n",
        "# Calculate the eigenvalues and eigenvectors\n",
        "eigenvalues, eigenvectors = eigh(laplacian_matrix)\n",
        "fiedler_vector = eigenvectors[:, 1]\n",
        "\n",
        "# Partition nodes based on the sign of the Fiedler vector\n",
        "partition = [1 if value > 0 else -1 for value in fiedler_vector]\n",
        "\n",
        "print(\"Adjacency Matrix:\",adj_matrix)\n",
        "print(\"\\nDegree Matrix:\",degree_matrix)\n",
        "print(\"\\nLaplacian Matrix:\",laplacian_matrix)\n",
        "print(\"\\nEigenvalues of the Laplacian Matrix:\",eigenvalues)\n",
        "print(\"\\nFiedler Vector:\",fiedler_vector)\n",
        "print(\"\\nPartition (1 for V1, -1 for V2):\",partition)\n"
      ]
    }
  ]
}