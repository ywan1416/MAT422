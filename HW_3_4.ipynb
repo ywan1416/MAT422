{
  "nbformat": 4,
  "nbformat_minor": 0,
  "metadata": {
    "colab": {
      "provenance": [],
      "toc_visible": true,
      "authorship_tag": "ABX9TyM6slVssJnMrIyIZ9KEi/fn",
      "include_colab_link": true
    },
    "kernelspec": {
      "name": "python3",
      "display_name": "Python 3"
    },
    "language_info": {
      "name": "python"
    }
  },
  "cells": [
    {
      "cell_type": "markdown",
      "metadata": {
        "id": "view-in-github",
        "colab_type": "text"
      },
      "source": [
        "<a href=\"https://colab.research.google.com/github/ywan1416/MAT422/blob/main/HW_3_4.ipynb\" target=\"_parent\"><img src=\"https://colab.research.google.com/assets/colab-badge.svg\" alt=\"Open In Colab\"/></a>"
      ]
    },
    {
      "cell_type": "code",
      "execution_count": 3,
      "metadata": {
        "id": "PAVquvn2F7T0"
      },
      "outputs": [],
      "source": [
        "import sympy as sp\n",
        "import matplotlib.pyplot as plt"
      ]
    },
    {
      "cell_type": "markdown",
      "source": [
        "# 3.4. Logistic regression"
      ],
      "metadata": {
        "id": "eMChiHEf6uan"
      }
    },
    {
      "cell_type": "markdown",
      "source": [
        "Logit function: The logit function models the probability as a linear regression. It transforms the odds of the event into a linear combination of the input features."
      ],
      "metadata": {
        "id": "QLAfAss0_MDG"
      }
    },
    {
      "cell_type": "markdown",
      "source": [
        "Sigmoid function: The sigmoid function limits the output between 0 and 1, representing the probability. It uses the formula p(α;x)=σ(α^Tx), where σ is the sigmoid function."
      ],
      "metadata": {
        "id": "sAz-VJUw_PBU"
      }
    },
    {
      "cell_type": "markdown",
      "source": [
        "Objective function: The objective function uses cross-entropy loss to minimize the error, allowing us to find the optimal solution x."
      ],
      "metadata": {
        "id": "3mDPBuDY_Xes"
      }
    },
    {
      "cell_type": "markdown",
      "source": [
        "Gradient descent: Gradient descent is applied to minimize the loss function, leading to the optimal x by iteratively updating the parameters based on the computed gradients."
      ],
      "metadata": {
        "id": "Hw5VlckN_bdx"
      }
    },
    {
      "cell_type": "code",
      "source": [
        "# Def Sigmoid function\n",
        "def sigmoid(z):\n",
        "    return 1 / (1 + np.exp(-z))"
      ],
      "metadata": {
        "id": "Y5Nviq3I0KtN"
      },
      "execution_count": 7,
      "outputs": []
    },
    {
      "cell_type": "code",
      "source": [
        "# Def Objective function\n",
        "def compute_cost(X, y, theta):\n",
        "    m = len(y)\n",
        "    h = sigmoid(np.dot(X, theta))\n",
        "    epsilon = 1e-5  # small value to avoid log(0)\n",
        "    cost = -(1/m) * np.sum(y * np.log(h + epsilon) + (1 - y) * np.log(1 - h + epsilon))\n",
        "    return cost"
      ],
      "metadata": {
        "id": "guLSHk4N0drU"
      },
      "execution_count": 8,
      "outputs": []
    },
    {
      "cell_type": "code",
      "source": [
        "# Def Gradient Descent\n",
        "def gradient_descent(X, y, theta, alpha, iterations):\n",
        "    m = len(y)\n",
        "    cost_history = []\n",
        "\n",
        "    for i in range(iterations):\n",
        "        h = sigmoid(np.dot(X, theta))\n",
        "        gradient = np.dot(X.T, (h - y)) / m\n",
        "        theta = theta - alpha * gradient\n",
        "        cost = compute_cost(X, y, theta)\n",
        "        cost_history.append(cost)\n",
        "\n",
        "    return theta, cost_history"
      ],
      "metadata": {
        "id": "YSI9bBrS0nz8"
      },
      "execution_count": 9,
      "outputs": []
    },
    {
      "cell_type": "code",
      "source": [
        "# Def x as hours studied data and y as Result: Pass(1)/Fail(0)\n",
        "hours_studied = np.array([29, 15, 33, 28, 39, 44, 31, 19, 9, 24, 32, 31, 37, 35])\n",
        "results = np.array([0, 0, 1, 1, 1, 1, 1, 0, 0, 0, 0, 1, 1, 1])\n",
        "\n",
        "X = np.c_[np.ones(hours_studied.shape[0]), hours_studied]\n",
        "y = results\n",
        "theta = np.zeros(X.shape[1])\n",
        "learning_rate = 0.01\n",
        "iterations = 1000\n",
        "theta, cost_history = gradient_descent(X, y, theta, learning_rate, iterations)\n",
        "print(\"Learned parameters:\", theta)\n",
        "\n",
        "#Plot Cost Function vs Iterations\n",
        "costs = cost_history\n",
        "plt.plot(range(iterations), costs)\n",
        "plt.xlabel(\"Iterations\")\n",
        "plt.ylabel(\"Cost\")\n",
        "plt.title(\"Cost Function over Iterations\")\n",
        "plt.show()\n",
        "\n",
        "# probability of passing for someone who studied 30 hours\n",
        "hours_new = 30\n",
        "X_new = np.array([1, hours_new])\n",
        "probability = sigmoid(np.dot(X_new, theta))\n",
        "print(f\"Probability of passing for 30 hours studied: {probability}\")"
      ],
      "metadata": {
        "colab": {
          "base_uri": "https://localhost:8080/",
          "height": 508
        },
        "id": "MWfJsZwT_fv_",
        "outputId": "5f6ed53e-da18-47f3-f1ee-1dfdeccb5cb7"
      },
      "execution_count": 16,
      "outputs": [
        {
          "output_type": "stream",
          "name": "stdout",
          "text": [
            "Learned parameters: [-0.87536641  0.05256356]\n"
          ]
        },
        {
          "output_type": "display_data",
          "data": {
            "text/plain": [
              "<Figure size 640x480 with 1 Axes>"
            ],
            "image/png": "[encoded data removed]"
          },
          "metadata": {}
        },
        {
          "output_type": "stream",
          "name": "stdout",
          "text": [
            "Probability of passing for 30 hours studied: 0.6685292202597521\n"
          ]
        }
      ]
    }
  ]
}