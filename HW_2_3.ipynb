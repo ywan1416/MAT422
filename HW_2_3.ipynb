{
  "nbformat": 4,
  "nbformat_minor": 0,
  "metadata": {
    "colab": {
      "provenance": [],
      "toc_visible": true,
      "authorship_tag": "ABX9TyNWFJXTxGYDoJY13o5dIdqW",
      "include_colab_link": true
    },
    "kernelspec": {
      "name": "python3",
      "display_name": "Python 3"
    },
    "language_info": {
      "name": "python"
    }
  },
  "cells": [
    {
      "cell_type": "markdown",
      "metadata": {
        "id": "view-in-github",
        "colab_type": "text"
      },
      "source": [
        "<a href=\"https://colab.research.google.com/github/ywan1416/MAT422/blob/main/HW_2_3.ipynb\" target=\"_parent\"><img src=\"https://colab.research.google.com/assets/colab-badge.svg\" alt=\"Open In Colab\"/></a>"
      ]
    },
    {
      "cell_type": "code",
      "source": [
        "import numpy as np\n",
        "import pandas as pd\n",
        "import random\n",
        "import math\n",
        "from scipy.stats import norm\n",
        "import scipy.integrate as integrate"
      ],
      "metadata": {
        "id": "LDM8eMSySm79"
      },
      "execution_count": null,
      "outputs": []
    },
    {
      "cell_type": "markdown",
      "source": [
        "# 2.3.1 Joint probability distributions"
      ],
      "metadata": {
        "id": "oWixPOqjSlLi"
      }
    },
    {
      "cell_type": "markdown",
      "source": [
        "2.3.1.1 Two Discrete Random Variables"
      ],
      "metadata": {
        "id": "DBZnEaSM7Gen"
      }
    },
    {
      "cell_type": "code",
      "execution_count": null,
      "metadata": {
        "colab": {
          "base_uri": "https://localhost:8080/"
        },
        "id": "skjQJWZzSgBL",
        "outputId": "04580018-ec43-48f3-c195-eafcfa30003c"
      },
      "outputs": [
        {
          "output_type": "stream",
          "name": "stdout",
          "text": [
            "       X = -1  X = 0   X=1\n",
            "Y = 1    0.10    0.2  0.10\n",
            "Y = 2    0.15    0.3  0.15\n",
            "X and Y are independent.\n"
          ]
        }
      ],
      "source": [
        "#define a joint probability table\n",
        "data_table = pd.DataFrame({\n",
        "    0: [0.1, 0.15],\n",
        "    1: [0.2, 0.3],\n",
        "    2: [0.1, 0.15]\n",
        "}, index=[1, 2])\n",
        "\n",
        "# Rename the columns and index\n",
        "data_table.columns = ['X = -1', 'X = 0', 'X=1']\n",
        "data_table.index = ['Y = 1', 'Y = 2']\n",
        "\n",
        "# Display the joint probability table\n",
        "print(data_table)\n",
        "\n",
        "# Check for independence\n",
        "p_X = data_table.sum(axis=0)\n",
        "p_Y = data_table.sum(axis=1)\n",
        "independence_check = (data_table == np.outer(p_Y, p_X)).all().all()\n",
        "if independence_check:\n",
        "    print(\"X and Y are independent.\")\n",
        "else:\n",
        "    print(\"X and Y are not independent.\")"
      ]
    },
    {
      "cell_type": "markdown",
      "source": [
        "2.3.1.2 Two Continuous Random Variables"
      ],
      "metadata": {
        "id": "_obJwHsc7LV8"
      }
    },
    {
      "cell_type": "code",
      "source": [
        "# Define the joint probability density function (PDF) for X and Y\n",
        "def joint_pdf(x, y):\n",
        "    return 2*x*y if 0 <= x <= 1 and 0 <= y <= 1 else 0\n",
        "\n",
        "# Calculate the joint probability of P(X<0.5,Y<0.5)\n",
        "joint_prob, _ = integrate.dblquad(lambda x, y: joint_pdf(x, y), 0, 0.5, lambda x: 0, lambda x: 0.5)\n",
        "\n",
        "# Calculate the joint probability of P(X<=Y)\n",
        "joint_prob, _ = integrate.dblquad(lambda x, y: joint_pdf(x, y), 0, 1, lambda x: 0, lambda x: x)\n",
        "\n",
        "print(\"P(X<0.5,Y<0.5):\", joint_prob)\n",
        "print(\"P(X<=Y):\", joint_prob)\n"
      ],
      "metadata": {
        "colab": {
          "base_uri": "https://localhost:8080/"
        },
        "id": "1s4ptfxh7LHV",
        "outputId": "f4711041-1063-44d3-f519-e94262c4b6d8"
      },
      "execution_count": null,
      "outputs": [
        {
          "output_type": "stream",
          "name": "stdout",
          "text": [
            "P(X<0.5,Y<0.5): 0.25\n",
            "P(X<=Y): 0.25\n"
          ]
        }
      ]
    },
    {
      "cell_type": "markdown",
      "source": [
        "2.3.1.3 Independent Random Variables"
      ],
      "metadata": {
        "id": "gX9UEFMVoxOo"
      }
    },
    {
      "cell_type": "markdown",
      "source": [
        "# 2.3.2. Correlation and dependence"
      ],
      "metadata": {
        "id": "2pcmfqTySloG"
      }
    },
    {
      "cell_type": "code",
      "source": [
        "# Define the joint probability table\n",
        "data_table2 = np.array([\n",
        "    [0.15, 0.05, 0.1],\n",
        "    [0.1, 0.1, 0.2],\n",
        "    [0.15, 0.05, 0.1]\n",
        "])\n",
        "\n",
        "X_values = np.array([0, 1, 2])\n",
        "Y_values = np.array([0, 1, 2])\n",
        "\n",
        "p_x=data_table2.sum(axis=0)\n",
        "p_y=data_table2.sum(axis=1)\n",
        "\n",
        "#Calculate the mean of X and Y\n",
        "mean_X = np.sum(X_values * p_x)\n",
        "mean_Y = np.sum(Y_values * p_y)\n",
        "\n",
        "#Calculate the cov of XY\n",
        "cov_XY = np.sum((X_values[:, None] - mean_X) * (Y_values - mean_Y) * data_table2)\n",
        "\n",
        "print(\"Covariance of X and Y:\", cov_XY)\n",
        "\n",
        "var_X = np.sum((X_values - mean_X)**2 * p_x)\n",
        "var_Y = np.sum((Y_values - mean_Y)**2 * p_y)\n",
        "\n",
        "#Calculate standard deviations\n",
        "std_X = np.sqrt(var_X)\n",
        "std_Y = np.sqrt(var_Y)\n",
        "\n",
        "print(\"Standard deviation of X:\", std_X)\n",
        "print(\"Standard deviation of Y:\", std_Y)\n",
        "\n",
        "# Calculate the correlation coefficient\n",
        "correlation_coefficient = cov_XY / (std_X * std_Y)\n",
        "\n",
        "print(\"Correlation coefficient:\", correlation_coefficient)\n"
      ],
      "metadata": {
        "colab": {
          "base_uri": "https://localhost:8080/"
        },
        "id": "9Ezh2Jj7oBqy",
        "outputId": "337f65ce-84f9-4570-f97c-ac24aa9fdc8f"
      },
      "execution_count": null,
      "outputs": [
        {
          "output_type": "stream",
          "name": "stdout",
          "text": [
            "Covariance of X and Y: 0.0\n",
            "Standard deviation of X: 0.8944271909999159\n",
            "Standard deviation of Y: 0.7745966692414834\n",
            "Correlation coefficient: 0.0\n"
          ]
        }
      ]
    },
    {
      "cell_type": "markdown",
      "source": [
        "# 2.3.3. Random samples"
      ],
      "metadata": {
        "id": "ZJOJ2a0jSvL5"
      }
    },
    {
      "cell_type": "markdown",
      "source": [
        "2.3.3.2 The Central Limit Theorem"
      ],
      "metadata": {
        "id": "ozwO3OYK7c5M"
      }
    },
    {
      "cell_type": "code",
      "source": [
        "#Get random event A\n",
        "Event_A = [random.randint(1, 10) for _ in range(10)]\n",
        "print(\"Event_A\",Event_A)\n",
        "\n",
        "mean = np.mean(Event_A)\n",
        "size = len(Event_A)\n",
        "population_variance = np.var(Event_A)\n",
        "\n",
        "# Sample mean variance\n",
        "mean_variance = population_variance / size\n",
        "\n",
        "# Step 4: Standard deviation of the sample mean\n",
        "std = np.sqrt(mean_variance)\n",
        "\n",
        "# Display results\n",
        "print(\"Event A Mean:\", mean)\n",
        "print(\"Event A Mean Variance:\", mean_variance)\n",
        "print(\"Standard Deviation of Event A Mean:\", std)\n"
      ],
      "metadata": {
        "colab": {
          "base_uri": "https://localhost:8080/"
        },
        "id": "v6imsXydvNTP",
        "outputId": "cf5cf4d0-8d2d-4ae8-9a7e-4464afb84ae9"
      },
      "execution_count": null,
      "outputs": [
        {
          "output_type": "stream",
          "name": "stdout",
          "text": [
            "Event_A [7, 3, 4, 6, 9, 7, 10, 1, 10, 3]\n",
            "Event A Mean: 6.0\n",
            "Event A Mean Variance: 0.9\n",
            "Standard Deviation of Event A Mean: 0.9486832980505138\n"
          ]
        }
      ]
    }
  ]
}